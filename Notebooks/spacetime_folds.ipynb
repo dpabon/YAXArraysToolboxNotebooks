{
 "cells": [
  {
   "cell_type": "markdown",
   "metadata": {},
   "source": [
    "# Spatio-temporal folds generation for cross validation"
   ]
  },
  {
   "cell_type": "code",
   "execution_count": 3,
   "metadata": {},
   "outputs": [
    {
     "name": "stderr",
     "output_type": "stream",
     "text": [
      "\u001b[32m\u001b[1m  Activating\u001b[22m\u001b[39m project at `~/YAXArraysToolboxNotebooks/Notebooks`\n"
     ]
    }
   ],
   "source": [
    "using Pkg\n",
    "# the path where you have the Manifest.toml and Project.toml \n",
    "Pkg.activate(\"/home/dpabon/YAXArraysToolboxNotebooks/Notebooks/\")\n"
   ]
  },
  {
   "cell_type": "markdown",
   "metadata": {},
   "source": [
    "```For this short tutorial we will use the cookfarm dataset from the GSIF package in R. \"The R.J. Cook Agronomy Farm (cookfarm) is a Long-Term Agroecosystem Research Site operated by Washington State University, located near Pullman, Washington, USA. Contains spatio-temporal (3D+T) measurements of three soil properties and a number of spatial and temporal regression covariates.\"\n",
    "\n",
    "The cookfarm data set contains four data frames. The readings data frame contains measurements\n",
    "of volumetric water content (cubic-m/cubic-m), temperature (degree C) and bulk electrical conduc-\n",
    "tivity (dS/m), measured at 42 locations using 5TE sensors at five standard depths (0.3, 0.6, 0.9, 1.2,\n",
    "1.5 m) for the period \"2011-01-01\" to \"2012-12-31\":\n",
    "SOURCEID factor; unique station ID\n",
    "Date date; observation day\n",
    "Port*VW numeric; volumetric water content measurements at five depths\n",
    "Port*C numeric; soil temperature measurements at five depths\n",
    "Port*EC numeric; bulk electrical conductivity measurements at five depths\n",
    "The profiles data frame contains soil profile descriptions from 142 sites:\n",
    "SOURCEID factor; unique station ID\n",
    "Easting numeric; x coordinate in the local projection system\n",
    "Northing numeric; y coordinate in the local projection system\n",
    "TAXNUSDA factor; Keys to Soil Taxonomy taxon name e.g. \"Caldwell\"\n",
    "HZDUSD factor; horizon designation\n",
    "UHDICM numeric; upper horizon depth from the surface in cm\n",
    "LHDICM numeric; lower horizon depth from the surface in cm\n",
    "BLD bulk density in tonnes per cubic-meter\n",
    "PHIHOX numeric; pH index measured in water solution\n",
    "The grids data frame contains values of regression covariates at 10 m resolution:\n",
    "DEM numeric; Digital Elevation Model\n",
    "TWI numeric; SAGA GIS Topographic Wetness Index\n",
    "MUSYM factor; soil mapping units e.g. \"Thatuna silt loam\"\n",
    "NDRE.M numeric; mean value of the Normalized Difference Red Edge Index (time series of 11\n",
    "RapidEye images)\n",
    "NDRE.sd numeric; standard deviation of the Normalized Difference Red Edge Index (time series of\n",
    "11 RapidEye images)\n",
    "Cook_fall_ECa numeric; apparent electrical conductivity image from fall\n",
    "Cook_spr_ECa numeric; apparent electrical conductivity image from spring\n",
    "X2011 factor; cropping system in 2011\n",
    "X2012 factor; cropping system in 2012\n",
    "The weather data frame contains daily temperatures and rainfall from the nearest meteorological\n",
    "station:\n",
    "Date date; observation day\n",
    "Precip_wrcc numeric; observed precipitation in mm\n",
    "MaxT_wrcc numeric; observed maximum daily temperature in degree C\n",
    "MinT_wrccc numeric; observed minimum daily temperature in degree C\n",
    "\n",
    "Gasch, C.K., Hengl, T., Gräler, B., Meyer, H., Magney, T., Brown, D.J., 2015. Spatio-temporal\n",
    "interpolation of soil water, temperature, and electrical conductivity in 3D+T: the Cook Agron-\n",
    "omy Farm data set. Spatial Statistics, 14, pp.70–90.\n",
    "```"
   ]
  },
  {
   "cell_type": "code",
   "execution_count": 4,
   "metadata": {},
   "outputs": [
    {
     "name": "stderr",
     "output_type": "stream",
     "text": [
      "\u001b[36m\u001b[1m[ \u001b[22m\u001b[39m\u001b[36m\u001b[1mInfo: \u001b[22m\u001b[39mPrecompiling YAXArraysToolbox [fe326ce2-c736-437b-b94b-0bdf007dd2e5]\n"
     ]
    }
   ],
   "source": [
    "using DataFrames, CSV, YAXArraysToolbox "
   ]
  },
  {
   "cell_type": "code",
   "execution_count": 5,
   "metadata": {},
   "outputs": [
    {
     "data": {
      "text/html": [
       "<div><div style = \"float: left;\"><span>183210×20 DataFrame</span></div><div style = \"float: right;\"><span style = \"font-style: italic;\">183185 rows omitted</span></div><div style = \"clear: both;\"></div></div><div class = \"data-frame\" style = \"overflow-x: scroll;\"><table class = \"data-frame\" style = \"margin-bottom: 6px;\"><thead><tr class = \"header\"><th class = \"rowNumber\" style = \"font-weight: bold; text-align: right;\">Row</th><th style = \"text-align: left;\">SOURCEID</th><th style = \"text-align: left;\">VW</th><th style = \"text-align: left;\">Easting</th><th style = \"text-align: left;\">Northing</th><th style = \"text-align: left;\">altitude</th><th style = \"text-align: left;\">DEM</th><th style = \"text-align: left;\">TWI</th><th style = \"text-align: left;\">NDRE.M</th><th style = \"text-align: left;\">NDRE.Sd</th><th style = \"text-align: left;\">Bt</th><th style = \"text-align: left;\">BLD</th><th style = \"text-align: left;\">PHI</th><th style = \"text-align: left;\">Crop</th><th style = \"text-align: left;\">Date</th><th style = \"text-align: left;\">Precip_wrcc</th><th style = \"text-align: left;\">MaxT_wrcc</th><th style = \"text-align: left;\">MinT_wrcc</th><th style = \"text-align: left;\">Precip_cum</th><th style = \"text-align: left;\">cday</th><th style = \"text-align: left;\">cdayt</th></tr><tr class = \"subheader headerLastRow\"><th class = \"rowNumber\" style = \"font-weight: bold; text-align: right;\"></th><th title = \"String7\" style = \"text-align: left;\">String7</th><th title = \"Float64\" style = \"text-align: left;\">Float64</th><th title = \"Float64\" style = \"text-align: left;\">Float64</th><th title = \"Float64\" style = \"text-align: left;\">Float64</th><th title = \"Float64\" style = \"text-align: left;\">Float64</th><th title = \"Float64\" style = \"text-align: left;\">Float64</th><th title = \"Float64\" style = \"text-align: left;\">Float64</th><th title = \"Float64\" style = \"text-align: left;\">Float64</th><th title = \"Float64\" style = \"text-align: left;\">Float64</th><th title = \"Float64\" style = \"text-align: left;\">Float64</th><th title = \"Float64\" style = \"text-align: left;\">Float64</th><th title = \"Float64\" style = \"text-align: left;\">Float64</th><th title = \"String7\" style = \"text-align: left;\">String7</th><th title = \"Dates.Date\" style = \"text-align: left;\">Date</th><th title = \"Float64\" style = \"text-align: left;\">Float64</th><th title = \"Float64\" style = \"text-align: left;\">Float64</th><th title = \"Float64\" style = \"text-align: left;\">Float64</th><th title = \"Float64\" style = \"text-align: left;\">Float64</th><th title = \"Int64\" style = \"text-align: left;\">Int64</th><th title = \"Float64\" style = \"text-align: left;\">Float64</th></tr></thead><tbody><tr><td class = \"rowNumber\" style = \"font-weight: bold; text-align: right;\">1</td><td style = \"text-align: left;\">CAF357</td><td style = \"text-align: right;\">0.303</td><td style = \"text-align: right;\">4.93828e5</td><td style = \"text-align: right;\">5.18102e6</td><td style = \"text-align: right;\">-0.3</td><td style = \"text-align: right;\">792.576</td><td style = \"text-align: right;\">3.79125</td><td style = \"text-align: right;\">0.0816121</td><td style = \"text-align: right;\">0.280518</td><td style = \"text-align: right;\">0.0</td><td style = \"text-align: right;\">1.22</td><td style = \"text-align: right;\">5.84</td><td style = \"text-align: left;\">SL</td><td style = \"text-align: left;\">2010-01-01</td><td style = \"text-align: right;\">5.8</td><td style = \"text-align: right;\">2.8</td><td style = \"text-align: right;\">-3.3</td><td style = \"text-align: right;\">5.8</td><td style = \"text-align: right;\">14611</td><td style = \"text-align: right;\">-0.052336</td></tr><tr><td class = \"rowNumber\" style = \"font-weight: bold; text-align: right;\">2</td><td style = \"text-align: left;\">CAF357</td><td style = \"text-align: right;\">0.328</td><td style = \"text-align: right;\">4.93828e5</td><td style = \"text-align: right;\">5.18102e6</td><td style = \"text-align: right;\">-0.6</td><td style = \"text-align: right;\">792.576</td><td style = \"text-align: right;\">3.79125</td><td style = \"text-align: right;\">0.0816121</td><td style = \"text-align: right;\">0.280518</td><td style = \"text-align: right;\">0.0</td><td style = \"text-align: right;\">1.36</td><td style = \"text-align: right;\">6.32</td><td style = \"text-align: left;\">SL</td><td style = \"text-align: left;\">2010-01-01</td><td style = \"text-align: right;\">5.8</td><td style = \"text-align: right;\">2.8</td><td style = \"text-align: right;\">-3.3</td><td style = \"text-align: right;\">5.8</td><td style = \"text-align: right;\">14611</td><td style = \"text-align: right;\">-0.052336</td></tr><tr><td class = \"rowNumber\" style = \"font-weight: bold; text-align: right;\">3</td><td style = \"text-align: left;\">CAF357</td><td style = \"text-align: right;\">0.376</td><td style = \"text-align: right;\">4.93828e5</td><td style = \"text-align: right;\">5.18102e6</td><td style = \"text-align: right;\">-0.9</td><td style = \"text-align: right;\">792.576</td><td style = \"text-align: right;\">3.79125</td><td style = \"text-align: right;\">0.0816121</td><td style = \"text-align: right;\">0.280518</td><td style = \"text-align: right;\">0.0</td><td style = \"text-align: right;\">1.48</td><td style = \"text-align: right;\">6.52</td><td style = \"text-align: left;\">SL</td><td style = \"text-align: left;\">2010-01-01</td><td style = \"text-align: right;\">5.8</td><td style = \"text-align: right;\">2.8</td><td style = \"text-align: right;\">-3.3</td><td style = \"text-align: right;\">5.8</td><td style = \"text-align: right;\">14611</td><td style = \"text-align: right;\">-0.052336</td></tr><tr><td class = \"rowNumber\" style = \"font-weight: bold; text-align: right;\">4</td><td style = \"text-align: left;\">CAF357</td><td style = \"text-align: right;\">0.35</td><td style = \"text-align: right;\">4.93828e5</td><td style = \"text-align: right;\">5.18102e6</td><td style = \"text-align: right;\">-1.2</td><td style = \"text-align: right;\">792.576</td><td style = \"text-align: right;\">3.79125</td><td style = \"text-align: right;\">0.0816121</td><td style = \"text-align: right;\">0.280518</td><td style = \"text-align: right;\">0.0</td><td style = \"text-align: right;\">1.56</td><td style = \"text-align: right;\">6.68</td><td style = \"text-align: left;\">SL</td><td style = \"text-align: left;\">2010-01-01</td><td style = \"text-align: right;\">5.8</td><td style = \"text-align: right;\">2.8</td><td style = \"text-align: right;\">-3.3</td><td style = \"text-align: right;\">5.8</td><td style = \"text-align: right;\">14611</td><td style = \"text-align: right;\">-0.052336</td></tr><tr><td class = \"rowNumber\" style = \"font-weight: bold; text-align: right;\">5</td><td style = \"text-align: left;\">CAF357</td><td style = \"text-align: right;\">0.323</td><td style = \"text-align: right;\">4.93828e5</td><td style = \"text-align: right;\">5.18102e6</td><td style = \"text-align: right;\">-1.5</td><td style = \"text-align: right;\">792.576</td><td style = \"text-align: right;\">3.79125</td><td style = \"text-align: right;\">0.0816121</td><td style = \"text-align: right;\">0.280518</td><td style = \"text-align: right;\">0.0106</td><td style = \"text-align: right;\">1.6</td><td style = \"text-align: right;\">6.72</td><td style = \"text-align: left;\">SL</td><td style = \"text-align: left;\">2010-01-01</td><td style = \"text-align: right;\">5.8</td><td style = \"text-align: right;\">2.8</td><td style = \"text-align: right;\">-3.3</td><td style = \"text-align: right;\">5.8</td><td style = \"text-align: right;\">14611</td><td style = \"text-align: right;\">-0.052336</td></tr><tr><td class = \"rowNumber\" style = \"font-weight: bold; text-align: right;\">6</td><td style = \"text-align: left;\">CAF357</td><td style = \"text-align: right;\">0.297</td><td style = \"text-align: right;\">4.93828e5</td><td style = \"text-align: right;\">5.18102e6</td><td style = \"text-align: right;\">-0.3</td><td style = \"text-align: right;\">792.576</td><td style = \"text-align: right;\">3.79125</td><td style = \"text-align: right;\">0.0816121</td><td style = \"text-align: right;\">0.280518</td><td style = \"text-align: right;\">0.0</td><td style = \"text-align: right;\">1.22</td><td style = \"text-align: right;\">5.84</td><td style = \"text-align: left;\">SL</td><td style = \"text-align: left;\">2010-01-02</td><td style = \"text-align: right;\">6.9</td><td style = \"text-align: right;\">6.1</td><td style = \"text-align: right;\">0.6</td><td style = \"text-align: right;\">12.7</td><td style = \"text-align: right;\">14612</td><td style = \"text-align: right;\">-0.0348995</td></tr><tr><td class = \"rowNumber\" style = \"font-weight: bold; text-align: right;\">7</td><td style = \"text-align: left;\">CAF357</td><td style = \"text-align: right;\">0.33</td><td style = \"text-align: right;\">4.93828e5</td><td style = \"text-align: right;\">5.18102e6</td><td style = \"text-align: right;\">-0.6</td><td style = \"text-align: right;\">792.576</td><td style = \"text-align: right;\">3.79125</td><td style = \"text-align: right;\">0.0816121</td><td style = \"text-align: right;\">0.280518</td><td style = \"text-align: right;\">0.0</td><td style = \"text-align: right;\">1.36</td><td style = \"text-align: right;\">6.32</td><td style = \"text-align: left;\">SL</td><td style = \"text-align: left;\">2010-01-02</td><td style = \"text-align: right;\">6.9</td><td style = \"text-align: right;\">6.1</td><td style = \"text-align: right;\">0.6</td><td style = \"text-align: right;\">12.7</td><td style = \"text-align: right;\">14612</td><td style = \"text-align: right;\">-0.0348995</td></tr><tr><td class = \"rowNumber\" style = \"font-weight: bold; text-align: right;\">8</td><td style = \"text-align: left;\">CAF357</td><td style = \"text-align: right;\">0.375</td><td style = \"text-align: right;\">4.93828e5</td><td style = \"text-align: right;\">5.18102e6</td><td style = \"text-align: right;\">-0.9</td><td style = \"text-align: right;\">792.576</td><td style = \"text-align: right;\">3.79125</td><td style = \"text-align: right;\">0.0816121</td><td style = \"text-align: right;\">0.280518</td><td style = \"text-align: right;\">0.0</td><td style = \"text-align: right;\">1.48</td><td style = \"text-align: right;\">6.52</td><td style = \"text-align: left;\">SL</td><td style = \"text-align: left;\">2010-01-02</td><td style = \"text-align: right;\">6.9</td><td style = \"text-align: right;\">6.1</td><td style = \"text-align: right;\">0.6</td><td style = \"text-align: right;\">12.7</td><td style = \"text-align: right;\">14612</td><td style = \"text-align: right;\">-0.0348995</td></tr><tr><td class = \"rowNumber\" style = \"font-weight: bold; text-align: right;\">9</td><td style = \"text-align: left;\">CAF357</td><td style = \"text-align: right;\">0.35</td><td style = \"text-align: right;\">4.93828e5</td><td style = \"text-align: right;\">5.18102e6</td><td style = \"text-align: right;\">-1.2</td><td style = \"text-align: right;\">792.576</td><td style = \"text-align: right;\">3.79125</td><td style = \"text-align: right;\">0.0816121</td><td style = \"text-align: right;\">0.280518</td><td style = \"text-align: right;\">0.0</td><td style = \"text-align: right;\">1.56</td><td style = \"text-align: right;\">6.68</td><td style = \"text-align: left;\">SL</td><td style = \"text-align: left;\">2010-01-02</td><td style = \"text-align: right;\">6.9</td><td style = \"text-align: right;\">6.1</td><td style = \"text-align: right;\">0.6</td><td style = \"text-align: right;\">12.7</td><td style = \"text-align: right;\">14612</td><td style = \"text-align: right;\">-0.0348995</td></tr><tr><td class = \"rowNumber\" style = \"font-weight: bold; text-align: right;\">10</td><td style = \"text-align: left;\">CAF357</td><td style = \"text-align: right;\">0.323</td><td style = \"text-align: right;\">4.93828e5</td><td style = \"text-align: right;\">5.18102e6</td><td style = \"text-align: right;\">-1.5</td><td style = \"text-align: right;\">792.576</td><td style = \"text-align: right;\">3.79125</td><td style = \"text-align: right;\">0.0816121</td><td style = \"text-align: right;\">0.280518</td><td style = \"text-align: right;\">0.0106</td><td style = \"text-align: right;\">1.6</td><td style = \"text-align: right;\">6.72</td><td style = \"text-align: left;\">SL</td><td style = \"text-align: left;\">2010-01-02</td><td style = \"text-align: right;\">6.9</td><td style = \"text-align: right;\">6.1</td><td style = \"text-align: right;\">0.6</td><td style = \"text-align: right;\">12.7</td><td style = \"text-align: right;\">14612</td><td style = \"text-align: right;\">-0.0348995</td></tr><tr><td class = \"rowNumber\" style = \"font-weight: bold; text-align: right;\">11</td><td style = \"text-align: left;\">CAF357</td><td style = \"text-align: right;\">0.31</td><td style = \"text-align: right;\">4.93828e5</td><td style = \"text-align: right;\">5.18102e6</td><td style = \"text-align: right;\">-0.3</td><td style = \"text-align: right;\">792.576</td><td style = \"text-align: right;\">3.79125</td><td style = \"text-align: right;\">0.0816121</td><td style = \"text-align: right;\">0.280518</td><td style = \"text-align: right;\">0.0</td><td style = \"text-align: right;\">1.22</td><td style = \"text-align: right;\">5.84</td><td style = \"text-align: left;\">SL</td><td style = \"text-align: left;\">2010-01-03</td><td style = \"text-align: right;\">0.0</td><td style = \"text-align: right;\">6.1</td><td style = \"text-align: right;\">0.0</td><td style = \"text-align: right;\">12.7</td><td style = \"text-align: right;\">14613</td><td style = \"text-align: right;\">-0.0174524</td></tr><tr><td class = \"rowNumber\" style = \"font-weight: bold; text-align: right;\">12</td><td style = \"text-align: left;\">CAF357</td><td style = \"text-align: right;\">0.336</td><td style = \"text-align: right;\">4.93828e5</td><td style = \"text-align: right;\">5.18102e6</td><td style = \"text-align: right;\">-0.6</td><td style = \"text-align: right;\">792.576</td><td style = \"text-align: right;\">3.79125</td><td style = \"text-align: right;\">0.0816121</td><td style = \"text-align: right;\">0.280518</td><td style = \"text-align: right;\">0.0</td><td style = \"text-align: right;\">1.36</td><td style = \"text-align: right;\">6.32</td><td style = \"text-align: left;\">SL</td><td style = \"text-align: left;\">2010-01-03</td><td style = \"text-align: right;\">0.0</td><td style = \"text-align: right;\">6.1</td><td style = \"text-align: right;\">0.0</td><td style = \"text-align: right;\">12.7</td><td style = \"text-align: right;\">14613</td><td style = \"text-align: right;\">-0.0174524</td></tr><tr><td class = \"rowNumber\" style = \"font-weight: bold; text-align: right;\">13</td><td style = \"text-align: left;\">CAF357</td><td style = \"text-align: right;\">0.376</td><td style = \"text-align: right;\">4.93828e5</td><td style = \"text-align: right;\">5.18102e6</td><td style = \"text-align: right;\">-0.9</td><td style = \"text-align: right;\">792.576</td><td style = \"text-align: right;\">3.79125</td><td style = \"text-align: right;\">0.0816121</td><td style = \"text-align: right;\">0.280518</td><td style = \"text-align: right;\">0.0</td><td style = \"text-align: right;\">1.48</td><td style = \"text-align: right;\">6.52</td><td style = \"text-align: left;\">SL</td><td style = \"text-align: left;\">2010-01-03</td><td style = \"text-align: right;\">0.0</td><td style = \"text-align: right;\">6.1</td><td style = \"text-align: right;\">0.0</td><td style = \"text-align: right;\">12.7</td><td style = \"text-align: right;\">14613</td><td style = \"text-align: right;\">-0.0174524</td></tr><tr><td style = \"text-align: right;\">&vellip;</td><td style = \"text-align: right;\">&vellip;</td><td style = \"text-align: right;\">&vellip;</td><td style = \"text-align: right;\">&vellip;</td><td style = \"text-align: right;\">&vellip;</td><td style = \"text-align: right;\">&vellip;</td><td style = \"text-align: right;\">&vellip;</td><td style = \"text-align: right;\">&vellip;</td><td style = \"text-align: right;\">&vellip;</td><td style = \"text-align: right;\">&vellip;</td><td style = \"text-align: right;\">&vellip;</td><td style = \"text-align: right;\">&vellip;</td><td style = \"text-align: right;\">&vellip;</td><td style = \"text-align: right;\">&vellip;</td><td style = \"text-align: right;\">&vellip;</td><td style = \"text-align: right;\">&vellip;</td><td style = \"text-align: right;\">&vellip;</td><td style = \"text-align: right;\">&vellip;</td><td style = \"text-align: right;\">&vellip;</td><td style = \"text-align: right;\">&vellip;</td><td style = \"text-align: right;\">&vellip;</td></tr><tr><td class = \"rowNumber\" style = \"font-weight: bold; text-align: right;\">183199</td><td style = \"text-align: left;\">CAF237</td><td style = \"text-align: right;\">0.233</td><td style = \"text-align: right;\">4.93798e5</td><td style = \"text-align: right;\">5.18086e6</td><td style = \"text-align: right;\">-1.5</td><td style = \"text-align: right;\">798.282</td><td style = \"text-align: right;\">3.46333</td><td style = \"text-align: right;\">-0.0230983</td><td style = \"text-align: right;\">0.128217</td><td style = \"text-align: right;\">0.158</td><td style = \"text-align: right;\">1.54</td><td style = \"text-align: right;\">6.56</td><td style = \"text-align: left;\">SW</td><td style = \"text-align: left;\">2013-11-13</td><td style = \"text-align: right;\">0.0</td><td style = \"text-align: right;\">10.6</td><td style = \"text-align: right;\">0.6</td><td style = \"text-align: right;\">0.0</td><td style = \"text-align: right;\">16023</td><td style = \"text-align: right;\">-0.515038</td></tr><tr><td class = \"rowNumber\" style = \"font-weight: bold; text-align: right;\">183200</td><td style = \"text-align: left;\">CAF245</td><td style = \"text-align: right;\">0.246</td><td style = \"text-align: right;\">4.94051e5</td><td style = \"text-align: right;\">5.18086e6</td><td style = \"text-align: right;\">-1.5</td><td style = \"text-align: right;\">802.57</td><td style = \"text-align: right;\">3.78878</td><td style = \"text-align: right;\">0.182172</td><td style = \"text-align: right;\">0.404595</td><td style = \"text-align: right;\">0.0167</td><td style = \"text-align: right;\">1.55</td><td style = \"text-align: right;\">6.66</td><td style = \"text-align: left;\">WW</td><td style = \"text-align: left;\">2013-11-13</td><td style = \"text-align: right;\">0.0</td><td style = \"text-align: right;\">10.6</td><td style = \"text-align: right;\">0.6</td><td style = \"text-align: right;\">0.0</td><td style = \"text-align: right;\">16023</td><td style = \"text-align: right;\">-0.515038</td></tr><tr><td class = \"rowNumber\" style = \"font-weight: bold; text-align: right;\">183201</td><td style = \"text-align: left;\">CAF275</td><td style = \"text-align: right;\">0.25</td><td style = \"text-align: right;\">4.93561e5</td><td style = \"text-align: right;\">5.18093e6</td><td style = \"text-align: right;\">-1.5</td><td style = \"text-align: right;\">790.801</td><td style = \"text-align: right;\">3.24379</td><td style = \"text-align: right;\">0.113293</td><td style = \"text-align: right;\">0.264224</td><td style = \"text-align: right;\">0.0</td><td style = \"text-align: right;\">1.53</td><td style = \"text-align: right;\">7.31</td><td style = \"text-align: left;\">SW</td><td style = \"text-align: left;\">2013-11-13</td><td style = \"text-align: right;\">0.0</td><td style = \"text-align: right;\">10.6</td><td style = \"text-align: right;\">0.6</td><td style = \"text-align: right;\">0.0</td><td style = \"text-align: right;\">16023</td><td style = \"text-align: right;\">-0.515038</td></tr><tr><td class = \"rowNumber\" style = \"font-weight: bold; text-align: right;\">183202</td><td style = \"text-align: left;\">CAF308</td><td style = \"text-align: right;\">0.341</td><td style = \"text-align: right;\">4.93822e5</td><td style = \"text-align: right;\">5.18096e6</td><td style = \"text-align: right;\">-1.5</td><td style = \"text-align: right;\">800.843</td><td style = \"text-align: right;\">3.75806</td><td style = \"text-align: right;\">0.00547241</td><td style = \"text-align: right;\">0.205992</td><td style = \"text-align: right;\">0.0</td><td style = \"text-align: right;\">1.48</td><td style = \"text-align: right;\">6.91</td><td style = \"text-align: left;\">SL</td><td style = \"text-align: left;\">2013-11-13</td><td style = \"text-align: right;\">0.0</td><td style = \"text-align: right;\">10.6</td><td style = \"text-align: right;\">0.6</td><td style = \"text-align: right;\">0.0</td><td style = \"text-align: right;\">16023</td><td style = \"text-align: right;\">-0.515038</td></tr><tr><td class = \"rowNumber\" style = \"font-weight: bold; text-align: right;\">183203</td><td style = \"text-align: left;\">CAF310</td><td style = \"text-align: right;\">0.274</td><td style = \"text-align: right;\">4.93886e5</td><td style = \"text-align: right;\">5.18097e6</td><td style = \"text-align: right;\">-1.5</td><td style = \"text-align: right;\">796.443</td><td style = \"text-align: right;\">3.68724</td><td style = \"text-align: right;\">0.161468</td><td style = \"text-align: right;\">0.226421</td><td style = \"text-align: right;\">0.0</td><td style = \"text-align: right;\">1.4</td><td style = \"text-align: right;\">6.73</td><td style = \"text-align: left;\">SW</td><td style = \"text-align: left;\">2013-11-13</td><td style = \"text-align: right;\">0.0</td><td style = \"text-align: right;\">10.6</td><td style = \"text-align: right;\">0.6</td><td style = \"text-align: right;\">0.0</td><td style = \"text-align: right;\">16023</td><td style = \"text-align: right;\">-0.515038</td></tr><tr><td class = \"rowNumber\" style = \"font-weight: bold; text-align: right;\">183204</td><td style = \"text-align: left;\">CAF312</td><td style = \"text-align: right;\">0.246</td><td style = \"text-align: right;\">4.93947e5</td><td style = \"text-align: right;\">5.18097e6</td><td style = \"text-align: right;\">-1.5</td><td style = \"text-align: right;\">792.942</td><td style = \"text-align: right;\">4.73288</td><td style = \"text-align: right;\">0.178024</td><td style = \"text-align: right;\">0.310896</td><td style = \"text-align: right;\">0.0</td><td style = \"text-align: right;\">1.54</td><td style = \"text-align: right;\">6.56</td><td style = \"text-align: left;\">SW</td><td style = \"text-align: left;\">2013-11-13</td><td style = \"text-align: right;\">0.0</td><td style = \"text-align: right;\">10.6</td><td style = \"text-align: right;\">0.6</td><td style = \"text-align: right;\">0.0</td><td style = \"text-align: right;\">16023</td><td style = \"text-align: right;\">-0.515038</td></tr><tr><td class = \"rowNumber\" style = \"font-weight: bold; text-align: right;\">183205</td><td style = \"text-align: left;\">CAF314</td><td style = \"text-align: right;\">0.247</td><td style = \"text-align: right;\">4.94013e5</td><td style = \"text-align: right;\">5.18096e6</td><td style = \"text-align: right;\">-1.5</td><td style = \"text-align: right;\">792.533</td><td style = \"text-align: right;\">5.20669</td><td style = \"text-align: right;\">0.186264</td><td style = \"text-align: right;\">0.36579</td><td style = \"text-align: right;\">0.462</td><td style = \"text-align: right;\">1.66</td><td style = \"text-align: right;\">6.48</td><td style = \"text-align: left;\">WW</td><td style = \"text-align: left;\">2013-11-13</td><td style = \"text-align: right;\">0.0</td><td style = \"text-align: right;\">10.6</td><td style = \"text-align: right;\">0.6</td><td style = \"text-align: right;\">0.0</td><td style = \"text-align: right;\">16023</td><td style = \"text-align: right;\">-0.515038</td></tr><tr><td class = \"rowNumber\" style = \"font-weight: bold; text-align: right;\">183206</td><td style = \"text-align: left;\">CAF349</td><td style = \"text-align: right;\">0.415</td><td style = \"text-align: right;\">4.93573e5</td><td style = \"text-align: right;\">5.18102e6</td><td style = \"text-align: right;\">-1.5</td><td style = \"text-align: right;\">782.128</td><td style = \"text-align: right;\">4.50769</td><td style = \"text-align: right;\">0.111497</td><td style = \"text-align: right;\">0.304332</td><td style = \"text-align: right;\">0.402</td><td style = \"text-align: right;\">1.71</td><td style = \"text-align: right;\">6.42</td><td style = \"text-align: left;\">SW</td><td style = \"text-align: left;\">2013-11-13</td><td style = \"text-align: right;\">0.0</td><td style = \"text-align: right;\">10.6</td><td style = \"text-align: right;\">0.6</td><td style = \"text-align: right;\">0.0</td><td style = \"text-align: right;\">16023</td><td style = \"text-align: right;\">-0.515038</td></tr><tr><td class = \"rowNumber\" style = \"font-weight: bold; text-align: right;\">183207</td><td style = \"text-align: left;\">CAF351</td><td style = \"text-align: right;\">0.39</td><td style = \"text-align: right;\">4.93637e5</td><td style = \"text-align: right;\">5.18102e6</td><td style = \"text-align: right;\">-1.5</td><td style = \"text-align: right;\">786.623</td><td style = \"text-align: right;\">3.50278</td><td style = \"text-align: right;\">-0.00508196</td><td style = \"text-align: right;\">0.208723</td><td style = \"text-align: right;\">0.146</td><td style = \"text-align: right;\">1.62</td><td style = \"text-align: right;\">6.67</td><td style = \"text-align: left;\">SW</td><td style = \"text-align: left;\">2013-11-13</td><td style = \"text-align: right;\">0.0</td><td style = \"text-align: right;\">10.6</td><td style = \"text-align: right;\">0.6</td><td style = \"text-align: right;\">0.0</td><td style = \"text-align: right;\">16023</td><td style = \"text-align: right;\">-0.515038</td></tr><tr><td class = \"rowNumber\" style = \"font-weight: bold; text-align: right;\">183208</td><td style = \"text-align: left;\">CAF357</td><td style = \"text-align: right;\">0.282</td><td style = \"text-align: right;\">4.93828e5</td><td style = \"text-align: right;\">5.18102e6</td><td style = \"text-align: right;\">-1.5</td><td style = \"text-align: right;\">792.576</td><td style = \"text-align: right;\">3.79125</td><td style = \"text-align: right;\">0.0816121</td><td style = \"text-align: right;\">0.280518</td><td style = \"text-align: right;\">0.0106</td><td style = \"text-align: right;\">1.6</td><td style = \"text-align: right;\">6.72</td><td style = \"text-align: left;\">SL</td><td style = \"text-align: left;\">2013-11-13</td><td style = \"text-align: right;\">0.0</td><td style = \"text-align: right;\">10.6</td><td style = \"text-align: right;\">0.6</td><td style = \"text-align: right;\">0.0</td><td style = \"text-align: right;\">16023</td><td style = \"text-align: right;\">-0.515038</td></tr><tr><td class = \"rowNumber\" style = \"font-weight: bold; text-align: right;\">183209</td><td style = \"text-align: left;\">CAF397</td><td style = \"text-align: right;\">0.223</td><td style = \"text-align: right;\">4.9369e5</td><td style = \"text-align: right;\">5.18109e6</td><td style = \"text-align: right;\">-1.5</td><td style = \"text-align: right;\">784.398</td><td style = \"text-align: right;\">4.42747</td><td style = \"text-align: right;\">0.0386736</td><td style = \"text-align: right;\">0.19303</td><td style = \"text-align: right;\">0.344</td><td style = \"text-align: right;\">1.65</td><td style = \"text-align: right;\">6.5</td><td style = \"text-align: left;\">SW</td><td style = \"text-align: left;\">2013-11-13</td><td style = \"text-align: right;\">0.0</td><td style = \"text-align: right;\">10.6</td><td style = \"text-align: right;\">0.6</td><td style = \"text-align: right;\">0.0</td><td style = \"text-align: right;\">16023</td><td style = \"text-align: right;\">-0.515038</td></tr><tr><td class = \"rowNumber\" style = \"font-weight: bold; text-align: right;\">183210</td><td style = \"text-align: left;\">CAF401</td><td style = \"text-align: right;\">0.309</td><td style = \"text-align: right;\">4.93818e5</td><td style = \"text-align: right;\">5.18108e6</td><td style = \"text-align: right;\">-1.5</td><td style = \"text-align: right;\">786.774</td><td style = \"text-align: right;\">5.71048</td><td style = \"text-align: right;\">-0.022712</td><td style = \"text-align: right;\">0.228804</td><td style = \"text-align: right;\">0.252</td><td style = \"text-align: right;\">1.67</td><td style = \"text-align: right;\">6.3</td><td style = \"text-align: left;\">SL</td><td style = \"text-align: left;\">2013-11-13</td><td style = \"text-align: right;\">0.0</td><td style = \"text-align: right;\">10.6</td><td style = \"text-align: right;\">0.6</td><td style = \"text-align: right;\">0.0</td><td style = \"text-align: right;\">16023</td><td style = \"text-align: right;\">-0.515038</td></tr></tbody></table></div>"
      ],
      "text/latex": [
       "\\begin{tabular}{r|ccccccccc}\n",
       "\t& SOURCEID & VW & Easting & Northing & altitude & DEM & TWI & NDRE.M & \\\\\n",
       "\t\\hline\n",
       "\t& String7 & Float64 & Float64 & Float64 & Float64 & Float64 & Float64 & Float64 & \\\\\n",
       "\t\\hline\n",
       "\t1 & CAF357 & 0.303 & 4.93828e5 & 5.18102e6 & -0.3 & 792.576 & 3.79125 & 0.0816121 & $\\dots$ \\\\\n",
       "\t2 & CAF357 & 0.328 & 4.93828e5 & 5.18102e6 & -0.6 & 792.576 & 3.79125 & 0.0816121 & $\\dots$ \\\\\n",
       "\t3 & CAF357 & 0.376 & 4.93828e5 & 5.18102e6 & -0.9 & 792.576 & 3.79125 & 0.0816121 & $\\dots$ \\\\\n",
       "\t4 & CAF357 & 0.35 & 4.93828e5 & 5.18102e6 & -1.2 & 792.576 & 3.79125 & 0.0816121 & $\\dots$ \\\\\n",
       "\t5 & CAF357 & 0.323 & 4.93828e5 & 5.18102e6 & -1.5 & 792.576 & 3.79125 & 0.0816121 & $\\dots$ \\\\\n",
       "\t6 & CAF357 & 0.297 & 4.93828e5 & 5.18102e6 & -0.3 & 792.576 & 3.79125 & 0.0816121 & $\\dots$ \\\\\n",
       "\t7 & CAF357 & 0.33 & 4.93828e5 & 5.18102e6 & -0.6 & 792.576 & 3.79125 & 0.0816121 & $\\dots$ \\\\\n",
       "\t8 & CAF357 & 0.375 & 4.93828e5 & 5.18102e6 & -0.9 & 792.576 & 3.79125 & 0.0816121 & $\\dots$ \\\\\n",
       "\t9 & CAF357 & 0.35 & 4.93828e5 & 5.18102e6 & -1.2 & 792.576 & 3.79125 & 0.0816121 & $\\dots$ \\\\\n",
       "\t10 & CAF357 & 0.323 & 4.93828e5 & 5.18102e6 & -1.5 & 792.576 & 3.79125 & 0.0816121 & $\\dots$ \\\\\n",
       "\t11 & CAF357 & 0.31 & 4.93828e5 & 5.18102e6 & -0.3 & 792.576 & 3.79125 & 0.0816121 & $\\dots$ \\\\\n",
       "\t12 & CAF357 & 0.336 & 4.93828e5 & 5.18102e6 & -0.6 & 792.576 & 3.79125 & 0.0816121 & $\\dots$ \\\\\n",
       "\t13 & CAF357 & 0.376 & 4.93828e5 & 5.18102e6 & -0.9 & 792.576 & 3.79125 & 0.0816121 & $\\dots$ \\\\\n",
       "\t14 & CAF357 & 0.349 & 4.93828e5 & 5.18102e6 & -1.2 & 792.576 & 3.79125 & 0.0816121 & $\\dots$ \\\\\n",
       "\t15 & CAF357 & 0.323 & 4.93828e5 & 5.18102e6 & -1.5 & 792.576 & 3.79125 & 0.0816121 & $\\dots$ \\\\\n",
       "\t16 & CAF357 & 0.362 & 4.93828e5 & 5.18102e6 & -0.3 & 792.576 & 3.79125 & 0.0816121 & $\\dots$ \\\\\n",
       "\t17 & CAF357 & 0.353 & 4.93828e5 & 5.18102e6 & -0.6 & 792.576 & 3.79125 & 0.0816121 & $\\dots$ \\\\\n",
       "\t18 & CAF357 & 0.384 & 4.93828e5 & 5.18102e6 & -0.9 & 792.576 & 3.79125 & 0.0816121 & $\\dots$ \\\\\n",
       "\t19 & CAF357 & 0.352 & 4.93828e5 & 5.18102e6 & -1.2 & 792.576 & 3.79125 & 0.0816121 & $\\dots$ \\\\\n",
       "\t20 & CAF357 & 0.323 & 4.93828e5 & 5.18102e6 & -1.5 & 792.576 & 3.79125 & 0.0816121 & $\\dots$ \\\\\n",
       "\t21 & CAF357 & 0.316 & 4.93828e5 & 5.18102e6 & -0.3 & 792.576 & 3.79125 & 0.0816121 & $\\dots$ \\\\\n",
       "\t22 & CAF357 & 0.346 & 4.93828e5 & 5.18102e6 & -0.6 & 792.576 & 3.79125 & 0.0816121 & $\\dots$ \\\\\n",
       "\t23 & CAF357 & 0.384 & 4.93828e5 & 5.18102e6 & -0.9 & 792.576 & 3.79125 & 0.0816121 & $\\dots$ \\\\\n",
       "\t24 & CAF357 & 0.354 & 4.93828e5 & 5.18102e6 & -1.2 & 792.576 & 3.79125 & 0.0816121 & $\\dots$ \\\\\n",
       "\t25 & CAF357 & 0.325 & 4.93828e5 & 5.18102e6 & -1.5 & 792.576 & 3.79125 & 0.0816121 & $\\dots$ \\\\\n",
       "\t26 & CAF357 & 0.294 & 4.93828e5 & 5.18102e6 & -0.3 & 792.576 & 3.79125 & 0.0816121 & $\\dots$ \\\\\n",
       "\t27 & CAF357 & 0.344 & 4.93828e5 & 5.18102e6 & -0.6 & 792.576 & 3.79125 & 0.0816121 & $\\dots$ \\\\\n",
       "\t28 & CAF357 & 0.381 & 4.93828e5 & 5.18102e6 & -0.9 & 792.576 & 3.79125 & 0.0816121 & $\\dots$ \\\\\n",
       "\t29 & CAF357 & 0.353 & 4.93828e5 & 5.18102e6 & -1.2 & 792.576 & 3.79125 & 0.0816121 & $\\dots$ \\\\\n",
       "\t30 & CAF357 & 0.327 & 4.93828e5 & 5.18102e6 & -1.5 & 792.576 & 3.79125 & 0.0816121 & $\\dots$ \\\\\n",
       "\t$\\dots$ & $\\dots$ & $\\dots$ & $\\dots$ & $\\dots$ & $\\dots$ & $\\dots$ & $\\dots$ & $\\dots$ &  \\\\\n",
       "\\end{tabular}\n"
      ],
      "text/plain": [
       "\u001b[1m183210×20 DataFrame\u001b[0m\n",
       "\u001b[1m    Row \u001b[0m│\u001b[1m SOURCEID \u001b[0m\u001b[1m VW      \u001b[0m\u001b[1m Easting   \u001b[0m\u001b[1m Northing  \u001b[0m\u001b[1m altitude \u001b[0m\u001b[1m DEM     \u001b[0m\u001b[1m TWI     \u001b[0m\u001b[1m\u001b[0m ⋯\n",
       "        │\u001b[90m String7  \u001b[0m\u001b[90m Float64 \u001b[0m\u001b[90m Float64   \u001b[0m\u001b[90m Float64   \u001b[0m\u001b[90m Float64  \u001b[0m\u001b[90m Float64 \u001b[0m\u001b[90m Float64 \u001b[0m\u001b[90m\u001b[0m ⋯\n",
       "────────┼───────────────────────────────────────────────────────────────────────\n",
       "      1 │ CAF357      0.303  4.93828e5  5.18102e6      -0.3  792.576  3.79125  ⋯\n",
       "      2 │ CAF357      0.328  4.93828e5  5.18102e6      -0.6  792.576  3.79125\n",
       "      3 │ CAF357      0.376  4.93828e5  5.18102e6      -0.9  792.576  3.79125\n",
       "      4 │ CAF357      0.35   4.93828e5  5.18102e6      -1.2  792.576  3.79125\n",
       "      5 │ CAF357      0.323  4.93828e5  5.18102e6      -1.5  792.576  3.79125  ⋯\n",
       "      6 │ CAF357      0.297  4.93828e5  5.18102e6      -0.3  792.576  3.79125\n",
       "      7 │ CAF357      0.33   4.93828e5  5.18102e6      -0.6  792.576  3.79125\n",
       "      8 │ CAF357      0.375  4.93828e5  5.18102e6      -0.9  792.576  3.79125\n",
       "      9 │ CAF357      0.35   4.93828e5  5.18102e6      -1.2  792.576  3.79125  ⋯\n",
       "     10 │ CAF357      0.323  4.93828e5  5.18102e6      -1.5  792.576  3.79125\n",
       "     11 │ CAF357      0.31   4.93828e5  5.18102e6      -0.3  792.576  3.79125\n",
       "   ⋮    │    ⋮         ⋮         ⋮          ⋮         ⋮         ⋮        ⋮     ⋱\n",
       " 183201 │ CAF275      0.25   4.93561e5  5.18093e6      -1.5  790.801  3.24379\n",
       " 183202 │ CAF308      0.341  4.93822e5  5.18096e6      -1.5  800.843  3.75806  ⋯\n",
       " 183203 │ CAF310      0.274  4.93886e5  5.18097e6      -1.5  796.443  3.68724\n",
       " 183204 │ CAF312      0.246  4.93947e5  5.18097e6      -1.5  792.942  4.73288\n",
       " 183205 │ CAF314      0.247  4.94013e5  5.18096e6      -1.5  792.533  5.20669\n",
       " 183206 │ CAF349      0.415  4.93573e5  5.18102e6      -1.5  782.128  4.50769  ⋯\n",
       " 183207 │ CAF351      0.39   4.93637e5  5.18102e6      -1.5  786.623  3.50278\n",
       " 183208 │ CAF357      0.282  4.93828e5  5.18102e6      -1.5  792.576  3.79125\n",
       " 183209 │ CAF397      0.223  4.9369e5   5.18109e6      -1.5  784.398  4.42747\n",
       " 183210 │ CAF401      0.309  4.93818e5  5.18108e6      -1.5  786.774  5.71048  ⋯\n",
       "\u001b[36m                                              13 columns and 183189 rows omitted\u001b[0m"
      ]
     },
     "execution_count": 5,
     "metadata": {},
     "output_type": "execute_result"
    }
   ],
   "source": [
    "cookdata = CSV.read(\"cookfarm.csv\", DataFrame)"
   ]
  },
  {
   "cell_type": "code",
   "execution_count": 8,
   "metadata": {},
   "outputs": [
    {
     "data": {
      "text/latex": [
       "\\section{Create Space-time Folds}\n",
       "Create spatial, temporal or spatio-temporal Folds for cross validation based on pre-defined groups.\n",
       "\n",
       "\\subsection{Arguments:}\n",
       "\\begin{itemize}\n",
       "\\item \\texttt{x} DataFrame containing spatio-temporal data.\n",
       "\n",
       "\n",
       "\\item \\texttt{spacevar}: String. which column of x identifies the spatial units (e.g. ID of weather stations).\n",
       "\n",
       "\n",
       "\\item \\texttt{timevar}: String. which column of x identifies the temporal units (e.g. the day of the year).\n",
       "\n",
       "\n",
       "\\item \\texttt{k}: Int64. Number of folds. If spacevar or timevar is nothing and a leave one location out or leave one time step out cv should be performed, set k to the number of unique spatial or temporal units.\n",
       "\n",
       "\n",
       "\\item \\texttt{class}: String. which column of x identifies a class unit (e.g. land cover) NOT IMPLEMENTED YET!!.\n",
       "\n",
       "\n",
       "\\item \\texttt{seed}: Int64 or Float64, See ?Random.seed!().\n",
       "\n",
       "\\end{itemize}\n",
       "\\subsection{Return}\n",
       "\\texttt{cv\\_indices\\_train, cv\\_indices\\_test = spacetime\\_folds(x;spacevar=\"var1\", timevar=\"var2\", k=10, class=nothing, seed=23)}\n",
       "\n",
       "\\subsection{References}\n",
       "Meyer, H., Reudenbach, C., Hengl, T., Katurji, M., Nauß, T. (2018): Improving performance of spatio-temporal machine learning models using forward feature selection and target-oriented validation. Environmental Modelling \\& Software 101: 1-9.\n",
       "\n"
      ],
      "text/markdown": [
       "# Create Space-time Folds\n",
       "\n",
       "Create spatial, temporal or spatio-temporal Folds for cross validation based on pre-defined groups.\n",
       "\n",
       "## Arguments:\n",
       "\n",
       "  * `x` DataFrame containing spatio-temporal data.\n",
       "  * `spacevar`: String. which column of x identifies the spatial units (e.g. ID of weather stations).\n",
       "  * `timevar`: String. which column of x identifies the temporal units (e.g. the day of the year).\n",
       "  * `k`: Int64. Number of folds. If spacevar or timevar is nothing and a leave one location out or leave one time step out cv should be performed, set k to the number of unique spatial or temporal units.\n",
       "  * `class`: String. which column of x identifies a class unit (e.g. land cover) NOT IMPLEMENTED YET!!.\n",
       "  * `seed`: Int64 or Float64, See ?Random.seed!().\n",
       "\n",
       "## Return\n",
       "\n",
       "`cv_indices_train, cv_indices_test = spacetime_folds(x;spacevar=\"var1\", timevar=\"var2\", k=10, class=nothing, seed=23)`\n",
       "\n",
       "## References\n",
       "\n",
       "Meyer, H., Reudenbach, C., Hengl, T., Katurji, M., Nauß, T. (2018): Improving performance of spatio-temporal machine learning models using forward feature selection and target-oriented validation. Environmental Modelling & Software 101: 1-9.\n"
      ],
      "text/plain": [
       "\u001b[1m  Create Space-time Folds\u001b[22m\n",
       "\u001b[1m  ≡≡≡≡≡≡≡≡≡≡≡≡≡≡≡≡≡≡≡≡≡≡≡≡≡\u001b[22m\n",
       "\n",
       "  Create spatial, temporal or spatio-temporal Folds for cross validation based\n",
       "  on pre-defined groups.\n",
       "\n",
       "\u001b[1m  Arguments:\u001b[22m\n",
       "\u001b[1m  ============\u001b[22m\n",
       "\n",
       "    •  \u001b[36mx\u001b[39m DataFrame containing spatio-temporal data.\n",
       "\n",
       "    •  \u001b[36mspacevar\u001b[39m: String. which column of x identifies the spatial units\n",
       "       (e.g. ID of weather stations).\n",
       "\n",
       "    •  \u001b[36mtimevar\u001b[39m: String. which column of x identifies the temporal units\n",
       "       (e.g. the day of the year).\n",
       "\n",
       "    •  \u001b[36mk\u001b[39m: Int64. Number of folds. If spacevar or timevar is nothing and a\n",
       "       leave one location out or leave one time step out cv should be\n",
       "       performed, set k to the number of unique spatial or temporal\n",
       "       units.\n",
       "\n",
       "    •  \u001b[36mclass\u001b[39m: String. which column of x identifies a class unit (e.g.\n",
       "       land cover) NOT IMPLEMENTED YET!!.\n",
       "\n",
       "    •  \u001b[36mseed\u001b[39m: Int64 or Float64, See ?Random.seed!().\n",
       "\n",
       "\u001b[1m  Return\u001b[22m\n",
       "\u001b[1m  ========\u001b[22m\n",
       "\n",
       "  \u001b[36mcv_indices_train, cv_indices_test = spacetime_folds(x;spacevar=\"var1\",\n",
       "  timevar=\"var2\", k=10, class=nothing, seed=23)\u001b[39m\n",
       "\n",
       "\u001b[1m  References\u001b[22m\n",
       "\u001b[1m  ============\u001b[22m\n",
       "\n",
       "  Meyer, H., Reudenbach, C., Hengl, T., Katurji, M., Nauß, T. (2018):\n",
       "  Improving performance of spatio-temporal machine learning models using\n",
       "  forward feature selection and target-oriented validation. Environmental\n",
       "  Modelling & Software 101: 1-9."
      ]
     },
     "execution_count": 8,
     "metadata": {},
     "output_type": "execute_result"
    }
   ],
   "source": [
    "# Now we can check the documentation of the spacetime_folds function\n",
    "@doc spacetime_folds"
   ]
  },
  {
   "cell_type": "code",
   "execution_count": 9,
   "metadata": {},
   "outputs": [
    {
     "data": {
      "text/plain": [
       "(Vector[[1098, 1106, 1114, 1121, 1127, 1135, 1144, 1153, 1176, 1186  …  182875, 182910, 182947, 182983, 183019, 183057, 183092, 183128, 183164, 183200], [2229, 2244, 2259, 2273, 2290, 2305, 2320, 2335, 2350, 2367  …  182683, 182721, 182761, 182799, 182836, 182875, 182910, 182947, 182983, 183019], [2229, 2244, 2259, 2273, 2290, 2305, 2320, 2335, 2350, 2367  …  182683, 182721, 182761, 182799, 182836, 183057, 183092, 183128, 183164, 183200], [2229, 2244, 2259, 2273, 2290, 2305, 2320, 2335, 2350, 2367  …  182875, 182910, 182947, 182983, 183019, 183057, 183092, 183128, 183164, 183200], [2229, 2244, 2259, 2273, 2290, 2305, 2320, 2335, 2350, 2367  …  182875, 182910, 182947, 182983, 183019, 183057, 183092, 183128, 183164, 183200], [2229, 2244, 2259, 2273, 2290, 2381, 2396, 2411, 2427, 2443  …  182875, 182910, 182947, 182983, 183019, 183057, 183092, 183128, 183164, 183200], [2305, 2320, 2335, 2350, 2367, 2381, 2396, 2411, 2427, 2443  …  182875, 182910, 182947, 182983, 183019, 183057, 183092, 183128, 183164, 183200], [2229, 2244, 2259, 2273, 2290, 2305, 2320, 2335, 2350, 2367  …  182875, 182910, 182947, 182983, 183019, 183057, 183092, 183128, 183164, 183200], [2229, 2244, 2259, 2273, 2290, 2305, 2320, 2335, 2350, 2367  …  182875, 182910, 182947, 182983, 183019, 183057, 183092, 183128, 183164, 183200], [2229, 2244, 2259, 2273, 2290, 2305, 2320, 2335, 2350, 2367  …  182776, 182814, 182851, 182925, 182961, 182997, 183033, 183107, 183142, 183178]], Vector[[36, 37, 38, 39, 40, 41, 42, 43, 44, 45  …  183117, 183118, 183144, 183146, 183155, 183156, 183172, 183180, 183189, 183190], [11, 12, 13, 14, 15, 86, 87, 88, 89, 90  …  183201, 183202, 183203, 183204, 183205, 183206, 183207, 183208, 183209, 183210], [96, 97, 98, 99, 100, 131, 132, 133, 134, 135  …  183124, 183132, 183134, 183141, 183160, 183168, 183177, 183196, 183204, 183206], [1, 2, 3, 4, 5, 51, 52, 53, 54, 55  …  183121, 183122, 183149, 183151, 183158, 183159, 183184, 183185, 183193, 183194], [6, 7, 8, 9, 10, 21, 22, 23, 24, 25  …  183126, 183129, 183137, 183150, 183162, 183165, 183173, 183198, 183201, 183209], [1, 2, 3, 4, 5, 6, 7, 8, 9, 10  …  183130, 183136, 183139, 183161, 183166, 183171, 183175, 183197, 183202, 183208], [146, 147, 148, 149, 150, 186, 187, 188, 189, 190  …  183110, 183114, 183145, 183147, 183148, 183152, 183181, 183182, 183183, 183186], [31, 32, 33, 34, 35, 76, 77, 78, 79, 80  …  183097, 183116, 183131, 183133, 183154, 183167, 183169, 183188, 183203, 183205], [16, 17, 18, 19, 20, 46, 47, 48, 49, 50  …  183107, 183115, 183123, 183142, 183143, 183153, 183178, 183179, 183187, 183195], [66, 67, 68, 69, 70, 226, 227, 228, 229, 230  …  183099, 183120, 183128, 183135, 183157, 183164, 183170, 183192, 183200, 183207]])"
      ]
     },
     "execution_count": 9,
     "metadata": {},
     "output_type": "execute_result"
    }
   ],
   "source": [
    "cv_indices_train, cv_indices_test = spacetime_folds(cookdata; spacevar = \"SOURCEID\", timevar = \"Date\", class=nothing, seed=23)"
   ]
  },
  {
   "cell_type": "markdown",
   "metadata": {},
   "source": [
    "The object ```cv_indices_train``` contains each one of the 10 folds (training data) and the indices in the dataframe."
   ]
  },
  {
   "cell_type": "code",
   "execution_count": 10,
   "metadata": {},
   "outputs": [
    {
     "data": {
      "text/plain": [
       "10-element Vector{Vector}:\n",
       " [1098, 1106, 1114, 1121, 1127, 1135, 1144, 1153, 1176, 1186  …  182875, 182910, 182947, 182983, 183019, 183057, 183092, 183128, 183164, 183200]\n",
       " [2229, 2244, 2259, 2273, 2290, 2305, 2320, 2335, 2350, 2367  …  182683, 182721, 182761, 182799, 182836, 182875, 182910, 182947, 182983, 183019]\n",
       " [2229, 2244, 2259, 2273, 2290, 2305, 2320, 2335, 2350, 2367  …  182683, 182721, 182761, 182799, 182836, 183057, 183092, 183128, 183164, 183200]\n",
       " [2229, 2244, 2259, 2273, 2290, 2305, 2320, 2335, 2350, 2367  …  182875, 182910, 182947, 182983, 183019, 183057, 183092, 183128, 183164, 183200]\n",
       " [2229, 2244, 2259, 2273, 2290, 2305, 2320, 2335, 2350, 2367  …  182875, 182910, 182947, 182983, 183019, 183057, 183092, 183128, 183164, 183200]\n",
       " [2229, 2244, 2259, 2273, 2290, 2381, 2396, 2411, 2427, 2443  …  182875, 182910, 182947, 182983, 183019, 183057, 183092, 183128, 183164, 183200]\n",
       " [2305, 2320, 2335, 2350, 2367, 2381, 2396, 2411, 2427, 2443  …  182875, 182910, 182947, 182983, 183019, 183057, 183092, 183128, 183164, 183200]\n",
       " [2229, 2244, 2259, 2273, 2290, 2305, 2320, 2335, 2350, 2367  …  182875, 182910, 182947, 182983, 183019, 183057, 183092, 183128, 183164, 183200]\n",
       " [2229, 2244, 2259, 2273, 2290, 2305, 2320, 2335, 2350, 2367  …  182875, 182910, 182947, 182983, 183019, 183057, 183092, 183128, 183164, 183200]\n",
       " [2229, 2244, 2259, 2273, 2290, 2305, 2320, 2335, 2350, 2367  …  182776, 182814, 182851, 182925, 182961, 182997, 183033, 183107, 183142, 183178]"
      ]
     },
     "execution_count": 10,
     "metadata": {},
     "output_type": "execute_result"
    }
   ],
   "source": [
    "cv_indices_train"
   ]
  },
  {
   "cell_type": "markdown",
   "metadata": {},
   "source": [
    "The object ```cv_indices_test``` contains each one of the 10 folds (testing data) and the indices in the dataframe."
   ]
  },
  {
   "cell_type": "code",
   "execution_count": 11,
   "metadata": {},
   "outputs": [
    {
     "data": {
      "text/plain": [
       "10-element Vector{Vector}:\n",
       " [36, 37, 38, 39, 40, 41, 42, 43, 44, 45  …  183117, 183118, 183144, 183146, 183155, 183156, 183172, 183180, 183189, 183190]\n",
       " [11, 12, 13, 14, 15, 86, 87, 88, 89, 90  …  183201, 183202, 183203, 183204, 183205, 183206, 183207, 183208, 183209, 183210]\n",
       " [96, 97, 98, 99, 100, 131, 132, 133, 134, 135  …  183124, 183132, 183134, 183141, 183160, 183168, 183177, 183196, 183204, 183206]\n",
       " [1, 2, 3, 4, 5, 51, 52, 53, 54, 55  …  183121, 183122, 183149, 183151, 183158, 183159, 183184, 183185, 183193, 183194]\n",
       " [6, 7, 8, 9, 10, 21, 22, 23, 24, 25  …  183126, 183129, 183137, 183150, 183162, 183165, 183173, 183198, 183201, 183209]\n",
       " [1, 2, 3, 4, 5, 6, 7, 8, 9, 10  …  183130, 183136, 183139, 183161, 183166, 183171, 183175, 183197, 183202, 183208]\n",
       " [146, 147, 148, 149, 150, 186, 187, 188, 189, 190  …  183110, 183114, 183145, 183147, 183148, 183152, 183181, 183182, 183183, 183186]\n",
       " [31, 32, 33, 34, 35, 76, 77, 78, 79, 80  …  183097, 183116, 183131, 183133, 183154, 183167, 183169, 183188, 183203, 183205]\n",
       " [16, 17, 18, 19, 20, 46, 47, 48, 49, 50  …  183107, 183115, 183123, 183142, 183143, 183153, 183178, 183179, 183187, 183195]\n",
       " [66, 67, 68, 69, 70, 226, 227, 228, 229, 230  …  183099, 183120, 183128, 183135, 183157, 183164, 183170, 183192, 183200, 183207]"
      ]
     },
     "execution_count": 11,
     "metadata": {},
     "output_type": "execute_result"
    }
   ],
   "source": [
    "cv_indices_test"
   ]
  }
 ],
 "metadata": {
  "kernelspec": {
   "display_name": "Julia nodeps 1.9.0",
   "language": "julia",
   "name": "julia-nodeps-1.9"
  },
  "language_info": {
   "file_extension": ".jl",
   "mimetype": "application/julia",
   "name": "julia",
   "version": "1.9.0"
  }
 },
 "nbformat": 4,
 "nbformat_minor": 4
}
